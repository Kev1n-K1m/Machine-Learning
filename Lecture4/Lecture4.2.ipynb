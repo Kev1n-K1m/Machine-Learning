{
 "cells": [
  {
   "cell_type": "markdown",
   "id": "d22ff0dd-5fc6-44c9-9167-d6c2bc94976a",
   "metadata": {},
   "source": [
    "#### Lec 4.2 Support Vector Machine II\n",
    "\n",
    "SVM(prime form, soft-margin)\n",
    "$$\n",
    "min_{w,b} \\frac12 ||w||^2_2 +  C\\sum^M_{i=1}\\eta_i \n",
    "$$\n",
    "$$\n",
    "subject\\ to:y^i(w^Tx^i+b) >= 1-\\eta_i;\\eta_i >= 0\n",
    "$$"
   ]
  },
  {
   "cell_type": "markdown",
   "id": "bd51c87e-1b78-429b-ab89-7ae0f74306ce",
   "metadata": {},
   "source": [
    "###### Kernel SVM\n",
    "for Non-Linear Decision Boundary\n",
    "\n",
    "map $x$ to a new high-dimensional space $z$\n",
    "\n",
    "Given a training set$ D = \\{x^i,y^i\\}$ the original SVM\n",
    "$$\n",
    "arg\\ min \\frac12 w^Tw \\ \\ \\ \\ \\ s.t. \\ \\ y^i(w^Tx^i + b) >=1\n",
    "$$\n",
    "\n",
    "Apply high-dimensional transform to input $ x -> \\phi(x)$\n",
    "$$\n",
    "arg\\ min \\frac12 w^Tw \\ \\ \\ \\ \\ s.t. \\ \\ y^i(w^T\\phi(x^i) + b) >=1\n",
    "$$\n",
    "\n",
    "The hyperplane $w\\in R^L$ is now in the high-dimensional space\n",
    "* if L if very large:\n",
    "  \n",
    "  ---- Calculating featre vector $\\phi(x)$ could be time consuming\n",
    "  \n",
    "  ---- Optimization could be very inefficient in high-demensional space"
   ]
  },
  {
   "cell_type": "markdown",
   "id": "410eded5-5162-457d-b8b4-ea722a150560",
   "metadata": {},
   "source": [
    "###### The Dual Problem\n",
    "\n",
    "We can form the Lagrangian:\n",
    "$$\n",
    "L(w,b,,\\eta,\\alpha,\\beta) = \\frac12 ||w||^2_2 + C\\sum^M_i\\eta_i - \\sum^M_i\\alpha[y^i(w^Tx^i+b)-1+\\eta_i]-\\sum^M_i\\beta_i\\eta_i\n",
    "$$\n",
    "\n",
    "$$\n",
    "and\\nabla L = 0\n",
    "$$\n",
    "we get:（eliminate $\\beta$）\n",
    "$$\n",
    "max \\ \\ \\ \\ g(\\alpha) = \\sum^M_i\\alpha_i - \\frac12 \\sum^M_{i,j}y^iy^j\\alpha_i\\alpha_j(x^i)^Tx^j\n",
    "$$\n",
    "$$\n",
    "subject \\ \\ to \\ \\ \\sum^M_i\\alpha_iy^i=0,0<=\\alpha_i<=C\n",
    "$$\n",
    "\n",
    "* classify a new point x*\n",
    "$$\n",
    "y^* = sign(w^Tx^*+b) = sign(\\sum^M\\alpha_iy^i(x^i)^Tx^*+b)\n",
    "\n",
    "Combining complementary slackness with primal feasibility and dual feasibility we can shou that:\n",
    "* $a_i^* = 0 =>y^i((x^i)^Tw^*+b^*)>=1$\n",
    "  ---- sample $x^i$ is not on the margin\n",
    "* $0<\\alpha^*_i < C=>y^i((x^i)^Tw^*+b^*)=1$\n",
    "  ---- sample $x^i$ is on the margin\n",
    "* $\\alpha^*_i = C=>y^i((x^i)^Tw^*+b^*)<=1$\n",
    "  ---- sample $x^i$ violate the margin"
   ]
  },
  {
   "cell_type": "markdown",
   "id": "7508368a-92a4-4ea7-9f01-9c362c617c5e",
   "metadata": {},
   "source": [
    "###### Kernel function\n",
    "Dual SVM with transformed input:\n",
    "$$\n",
    "max \\ \\ \\ \\ g(\\alpha) = \\sum^M_i\\alpha_i - \\frac12 \\sum^M_{i,j}y^iy^j\\alpha_i\\alpha_j(\\phi(x^i))^T\\phi(x^j)\n",
    "$$\n",
    "$$\n",
    "subject \\ \\ to \\ \\ \\sum^M_i\\alpha_iy^i=0,0<=\\alpha_i<=C\n",
    "$$\n",
    "\n",
    "Kernel function:$K(x^i,x^j) = \\phi(x^i)^T\\phi(x^j)$\n"
   ]
  },
  {
   "cell_type": "markdown",
   "id": "e96079c9-1444-4575-83a4-476f0037cded",
   "metadata": {},
   "source": [
    "###### Solving SVM: Coordinate Descent\n",
    "Consider the unconstrained optimization problem\n",
    "$$\n",
    "min_\\theta l(\\theta_1,\\theta_2,..,\\theta_N)\n",
    "$$\n",
    "\n",
    "The coordinate descent method first selects an initial point $\\theta$_0 and repeats:\n",
    "* Choose an index i from 1 to N\n",
    "* $\\theta_i^{t+1}=arg\\ min_{\\theta_i} l(\\theta_1^t,\\theta_2^t,..,\\theta_N^t)$"
   ]
  },
  {
   "cell_type": "code",
   "execution_count": null,
   "id": "3c433b1e-1b72-4928-bf19-bd62af88d772",
   "metadata": {},
   "outputs": [],
   "source": []
  }
 ],
 "metadata": {
  "kernelspec": {
   "display_name": "Python 3 (ipykernel)",
   "language": "python",
   "name": "python3"
  },
  "language_info": {
   "codemirror_mode": {
    "name": "ipython",
    "version": 3
   },
   "file_extension": ".py",
   "mimetype": "text/x-python",
   "name": "python",
   "nbconvert_exporter": "python",
   "pygments_lexer": "ipython3",
   "version": "3.11.7"
  }
 },
 "nbformat": 4,
 "nbformat_minor": 5
}
