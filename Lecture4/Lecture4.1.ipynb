{
 "cells": [
  {
   "cell_type": "markdown",
   "id": "d1004323-9bb3-4ecd-b78d-bacfddf154c5",
   "metadata": {},
   "source": [
    "#### Optimization Problem in Standard Form\n",
    "* minimize $f_0(x)$\n",
    "* suject to $f_i(x)<=0,i=1,...,r$ and $h_i(x) = 0,i=1,...,s$\n",
    "\n",
    "Optimal value:\n",
    "$p^*=min\\{f_0(x)|f_i(x)<=0,and,h_i(x)=0\\}$\n",
    "* $p^* = \\infty$ if problem is infeasible(no x satisfies the constraints)\n",
    "* $p^* = -\\infty$ if the problem is unbounded below\n",
    "\n",
    "* x is feasible if $x \\in dom(f_0)$ and it satisfies the constrains\n",
    "* A feasible x is optimal if $f_0(x) = p^*$\n",
    "* x is locally optimal if there is an R>0 such that x is optimal for:\n",
    "(1)minimize $f_o(z)$\n",
    "(2)subject to $f_i(z) <= 0, h_i(z) = 0, ||z-x||_2<=R$"
   ]
  },
  {
   "cell_type": "markdown",
   "id": "828b7b3d-63c6-443d-a264-be63bc208cfa",
   "metadata": {},
   "source": [
    "#### Feasibility problem\n",
    "find x\n",
    "\n",
    "subject to $f_i(s) <= 0. and. h_i(x)=0$\n",
    "\n",
    "can be considered a special case of the general problem with $f_0(x) = 0$\n",
    "\n",
    "minimize 0\n",
    "\n",
    "subject to $f_i(s) <= 0. and. h_i(x)=0$\n",
    "\n",
    "* p* = 0 if constraints are feasible; any feasible x is optimal\n",
    "* p* = $\\infty$ if constaints are infeasible\n",
    "\n",
    "minimize $f_0(x)$\n",
    "\n",
    "subject to $f_i(s) <= 0. and. a_i^Tx=b_i$\n",
    "\n",
    "* $f_0,f_1,...,f_r$ are convex\n",
    "\n",
    "often written as\n",
    "\n",
    "minimize $f_0(x)$\n",
    "\n",
    "subject to $f_i(s) <= 0. and Ax=b$\n",
    "\n",
    "* important property: feasible set of a convex optimization problem is convex"
   ]
  },
  {
   "cell_type": "markdown",
   "id": "eeafb468-7a13-4912-a28c-ec93bd7d965d",
   "metadata": {},
   "source": [
    "#### proof: any locally optimal point of is globally optimal\n",
    "suppose x is locally optimal and y is optimal with $f_o(y)<f_0(x)$ Locally optimal x means there is an R>0 such that:\n",
    "$$\n",
    "z\\  feasible, ||z-x||_2<R => f_0(z)>=f_0(x)\n",
    "$$\n",
    "consider $z = \\alpha y + (1-\\alpha)x, with\\  a = R/(2||y-x||_2)$\n",
    "* $||y-x||_2 > R$,so 0 <$\\alpha$<1/2\n",
    "* z is a convex combination of two feasible points, hence feasible\n",
    "* $||z-x||_2 = R/2$ and $f_0(z) <= \\alpha f_0(y) + (1-\\alpha)f_0(x)<f_0(x)$\n",
    "---- contradiction"
   ]
  },
  {
   "cell_type": "markdown",
   "id": "2e917221-652a-4204-bdfb-ec7f8d674805",
   "metadata": {},
   "source": [
    "### Duality\n",
    "standard form problem :\n",
    "$$\n",
    "min_x \\ \\ \\  f_0(x)\n",
    "$$\n",
    "$$\n",
    "subject \\ to f_i(x)<=0, h_i(x)=0\n",
    "$$\n",
    "\n",
    "Lagrangian L\n",
    "$L(x,\\lambda,v) = f_0(x)+\\sum^r_{i=1}\\lambda_if_i(x)+\\sum^s_{i=1}v_ih_i(x)$\n",
    "\n",
    "##### Lagrange Dual Function\n",
    "$$\n",
    "g(\\lambda,v) = inf_{x\\in X} L(x,\\lambda,v)\n",
    "$$\n",
    "g is concave and can be -$\\infty$ for some $\\lambda$ and v\n",
    "\n",
    "##### Lower bound property: \n",
    "if $\\lambda>=0$ then $g(\\lambda,v)<=p^*$\n",
    "proof. : if $\\bar{x}$ is feasible and $\\lambda$ >= 0,then\n",
    "$$\n",
    "f_0(\\bar{x}) >= L(\\bar{x},\\lambda,v) >= inf_{x} L(x,\\lambda,v) = g(\\lambda,v) \n",
    "$$\n",
    "Minimizing over all feasible $\\bar{x}$ gives $p^* >= g(\\lambda,v)$"
   ]
  },
  {
   "cell_type": "markdown",
   "id": "e1bfc1e6-40f9-4c28-b94c-b9a2adcbe00d",
   "metadata": {},
   "source": [
    "#### The Dual Problem\n",
    "##### Lagrange dual problem\n",
    "$$\n",
    "max_{\\lambda,v} g(\\lambda,v)\n",
    "$$\n",
    "\n",
    "$$\n",
    "subject\\ to\\  \\lambda >= 0\n",
    "$$\n",
    "\n",
    "* Weak dulity $d^* <= p^*$\n",
    "  > always holds(for convex and nonconvex)\n",
    "  > \n",
    "  > can be used to find nontrivial lower bounds for difficult problems\n",
    "* strong duality $d^* = p^*$\n",
    "  > ussally holds for convex problems"
   ]
  },
  {
   "cell_type": "code",
   "execution_count": null,
   "id": "772b2f5f-78d6-4bc4-833c-f2937675473f",
   "metadata": {},
   "outputs": [],
   "source": []
  }
 ],
 "metadata": {
  "kernelspec": {
   "display_name": "Python 3 (ipykernel)",
   "language": "python",
   "name": "python3"
  },
  "language_info": {
   "codemirror_mode": {
    "name": "ipython",
    "version": 3
   },
   "file_extension": ".py",
   "mimetype": "text/x-python",
   "name": "python",
   "nbconvert_exporter": "python",
   "pygments_lexer": "ipython3",
   "version": "3.11.7"
  }
 },
 "nbformat": 4,
 "nbformat_minor": 5
}
